{
 "cells": [
  {
   "attachments": {},
   "cell_type": "markdown",
   "metadata": {},
   "source": [
    "# 推薦エンジン\n",
    "\n",
    "## 類似度の計算\n",
    "- ユークリッドスコア\n",
    "- ピアソンスコア"
   ]
  },
  {
   "cell_type": "code",
   "execution_count": 4,
   "metadata": {},
   "outputs": [],
   "source": [
    "import json \n",
    "import numpy as np \n",
    "\n",
    "# user1とuser2の間のユークリッドスコアを計算する\n",
    "def euclidean_score(dataset, user1, user2): \n",
    "    if user1 not in dataset: \n",
    "        raise TypeError('Cannot find ' + user1 + ' in the dataset') \n",
    "    if user2 not in dataset: \n",
    "        raise TypeError('Cannot find ' + user2 + ' in the dataset') \n",
    "\n",
    "    common_movies = {} \n",
    "    for item in dataset[user1]: \n",
    "        if item in dataset[user2]: \n",
    "            common_movies[item] = 1 \n",
    "\n",
    "    if len(common_movies) == 0: \n",
    "        return 0 \n",
    "\n",
    "    squared_diff = [] \n",
    "\n",
    "    for item in common_movies:\n",
    "        squared_diff.append(np.square(dataset[user1][item] - dataset[user2][item])) \n",
    "        \n",
    "    return 1 / (1 + np.sqrt(np.sum(squared_diff))) \n",
    "\n",
    "# user1とuser2の間のピアソンスコアを計算する\n",
    "def pearson_score(dataset, user1, user2): \n",
    "    if user1 not in dataset: \n",
    "        raise TypeError('Cannot find ' + user1 + ' in the dataset') \n",
    "    if user2 not in dataset: \n",
    "        raise TypeError('Cannot find ' + user2 + ' in the dataset') \n",
    "\n",
    "    common_movies = {} \n",
    "    for item in dataset[user1]: \n",
    "        if item in dataset[user2]: \n",
    "            common_movies[item] = 1 \n",
    "\n",
    "    num_ratings = len(common_movies) \n",
    "\n",
    "    if num_ratings == 0: \n",
    "        return 0 \n",
    "\n",
    "    user1_sum = np.sum([dataset[user1][item] for item in common_movies]) \n",
    "    user2_sum = np.sum([dataset[user2][item] for item in common_movies]) \n",
    "\n",
    "    user1_squared_sum = np.sum([np.square(dataset[user1][item]) \n",
    "                                    for item in common_movies]) \n",
    "    user2_squared_sum = np.sum([np.square(dataset[user2][item])\n",
    "                                    for item in common_movies]) \n",
    "    sum_of_products = np.sum([dataset[user1][item] * dataset[user2][item]\n",
    "                                  for item in common_movies]) \n",
    "    Sxy = sum_of_products - (user1_sum * user2_sum / num_ratings) \n",
    "    Sxx = user1_squared_sum - np.square(user1_sum) / num_ratings \n",
    "    Syy = user2_squared_sum - np.square(user2_sum) / num_ratings \n",
    "    if Sxx * Syy == 0: \n",
    "        return 0 \n",
    "    return Sxy / np.sqrt(Sxx * Syy) "
   ]
  },
  {
   "cell_type": "code",
   "execution_count": 5,
   "metadata": {},
   "outputs": [],
   "source": [
    "ratings_file = 'ratings.json' \n",
    "with open(ratings_file, 'r') as f: \n",
    "    data = json.loads(f.read())  "
   ]
  },
  {
   "cell_type": "code",
   "execution_count": 6,
   "metadata": {},
   "outputs": [
    {
     "name": "stdout",
     "output_type": "stream",
     "text": [
      "Euclidean score:\n",
      "0.585786437626905\n",
      "Pearson score:\n",
      "0.9909924304103233\n"
     ]
    }
   ],
   "source": [
    "user1 = 'David Smith'\n",
    "user2 = 'Bill Duffy'\n",
    "\n",
    "print(\"Euclidean score:\") \n",
    "print(euclidean_score(data, user1, user2))\n",
    "\n",
    "print(\"Pearson score:\") \n",
    "print(pearson_score(data, user1, user2)) "
   ]
  },
  {
   "attachments": {},
   "cell_type": "markdown",
   "metadata": {},
   "source": [
    "## 協調フィルタを用いた類似ユーザー検索"
   ]
  },
  {
   "cell_type": "code",
   "execution_count": 7,
   "metadata": {},
   "outputs": [],
   "source": [
    "# 入力ユーザに似たユーザをデータセットから検索する\n",
    "def find_similar_users(dataset, user, num_users): \n",
    "    if user not in dataset: \n",
    "        raise TypeError('Cannot find ' + user + ' in the dataset')\n",
    "        \n",
    "    scores = [[x, pearson_score(dataset, user, x)]\n",
    "                  for x in dataset if x != user]    \n",
    "    scores.sort(key=lambda p: p[1], reverse=True) \n",
    "    \n",
    "    return scores[:num_users] "
   ]
  },
  {
   "cell_type": "code",
   "execution_count": 8,
   "metadata": {},
   "outputs": [
    {
     "name": "stdout",
     "output_type": "stream",
     "text": [
      "Users similar to Bill Duffy:\n",
      "\n",
      "User\t\t\tSimilarity score\n",
      "-----------------------------------------\n",
      "David Smith \t\t 0.99\n",
      "Samuel Miller \t\t 0.88\n",
      "Adam Cohen \t\t 0.86\n"
     ]
    }
   ],
   "source": [
    "user = 'Bill Duffy'\n",
    "#user = 'Clarissa Jackson'\n",
    "\n",
    "print('Users similar to ' + user + ':\\n') \n",
    "similar_users = find_similar_users(data, user, 3) \n",
    "print('User\\t\\t\\tSimilarity score') \n",
    "print('-'*41) \n",
    "for item in similar_users: \n",
    "    print(item[0], '\\t\\t', round(item[1], 2)) "
   ]
  },
  {
   "attachments": {},
   "cell_type": "markdown",
   "metadata": {},
   "source": [
    "## 映画推薦システム"
   ]
  },
  {
   "cell_type": "code",
   "execution_count": 9,
   "metadata": {},
   "outputs": [],
   "source": [
    "# input_user の推薦をする\n",
    "def get_recommendations(dataset, input_user): \n",
    "    similar_users = find_similar_users(dataset, input_user, 3)\n",
    "\n",
    "    overall_scores = {} \n",
    "    similarity_scores = {} \n",
    "    \n",
    "    for user,pscore in similar_users:\n",
    "        for item,iscore in dataset[user].items():\n",
    "            if item in dataset[input_user] and dataset[input_user][item] > 0:\n",
    "                continue\n",
    "\n",
    "            overall_scores[item] = overall_scores.get(item, 0) + iscore * pscore\n",
    "            similarity_scores[item] = similarity_scores.get(item, 0) + pscore\n",
    "\n",
    "    if len(overall_scores) == 0: \n",
    "        return ['No recommendations possible'] \n",
    "\n",
    "    movie_scores = [(item, score / similarity_scores[item]) \n",
    "                      for item,score in overall_scores.items()] \n",
    "    movie_scores.sort(key=lambda p: p[1], reverse=True)\n",
    "\n",
    "    return movie_scores"
   ]
  },
  {
   "cell_type": "code",
   "execution_count": 10,
   "metadata": {},
   "outputs": [
    {
     "name": "stdout",
     "output_type": "stream",
     "text": [
      "Movie recommendations for Chris Duncan:\n",
      "1. Vertigo : 4.5\n",
      "2. Scarface : 4.17\n",
      "3. Goodfellas : 4.0\n",
      "4. Roman Holiday : 1.25\n"
     ]
    }
   ],
   "source": [
    "user = 'Chris Duncan'\n",
    "#user = 'Julie Hammel'\n",
    "\n",
    "print(\"Movie recommendations for \" + user + \":\") \n",
    "movies = get_recommendations(data, user) \n",
    "for i, movie in enumerate(movies): \n",
    "    print(str(i+1) + '.', movie[0], ':', round(movie[1],2)) "
   ]
  },
  {
   "cell_type": "code",
   "execution_count": 11,
   "metadata": {},
   "outputs": [],
   "source": [
    "# 入力ユーザーに似たユーザーをデータセットから検索する\n",
    "def find_similar_users(dataset, user, num_users):\n",
    "    if user not in dataset:\n",
    "        raise TypeError('Cannot find ', user, 'in the dataset')\n",
    "    \n",
    "    scores = [(x, pearson_score(dataset, user, x)) \n",
    "              for x in dataset if x != user]\n",
    "    scores.sort(key=lambda p: p[1], reverse=True)\n",
    "    \n",
    "    return scores[:num_users]\n"
   ]
  },
  {
   "cell_type": "code",
   "execution_count": 12,
   "metadata": {},
   "outputs": [
    {
     "name": "stdout",
     "output_type": "stream",
     "text": [
      "Users similar to Clarissa Jackson :\n",
      "\n",
      "User\t\t\tSimilarity score\n",
      "-----------------------------------------\n",
      "Chris Duncan \t\t 1.0\n",
      "Bill Duffy \t\t 0.83\n",
      "Samuel Miller \t\t 0.73\n"
     ]
    }
   ],
   "source": [
    "user = 'Clarissa Jackson' #'Bill Duffy'\n",
    "\n",
    "print('Users similar to', user, ':\\n')\n",
    "similar_users = find_similar_users(data, user, 3)\n",
    "print('User\\t\\t\\tSimilarity score')\n",
    "print('-'*41)\n",
    "for item in similar_users:\n",
    "    print(item[0], '\\t\\t', round(item[1], 2))"
   ]
  },
  {
   "cell_type": "code",
   "execution_count": 15,
   "metadata": {},
   "outputs": [],
   "source": [
    "# inpt_userの推薦をする\n",
    "def get_recommendations(dataset, input_user):\n",
    "    similar_users = find_similar_users(dataset, input_user, 3)\n",
    "\n",
    "    overall_scores = {}\n",
    "    similarity_scores = {}\n",
    "    for user, pscore in similar_users:\n",
    "        for item, iscore in dataset[user].items():\n",
    "            if item in dataset[input_user] and dataset[input_user][item] > 0:\n",
    "                continue\n",
    "            \n",
    "            overall_scores[item] = overall_scores.get(item, 0) + iscore * pscore\n",
    "            similarity_scores[item] = similarity_scores.get(item, 0) + pscore\n",
    "\n",
    "    if len(overall_scores) == 0:\n",
    "        return [\"No recommendations possible\"]\n",
    "    \n",
    "    movie_scores = [(item, score / similarity_scores[item])\n",
    "                    for item, score in overall_scores.items()]\n",
    "    \n",
    "    movie_scores.sort(key=lambda p: p[1], reverse=True)\n",
    "    return movie_scores\n"
   ]
  },
  {
   "cell_type": "code",
   "execution_count": 16,
   "metadata": {},
   "outputs": [
    {
     "name": "stdout",
     "output_type": "stream",
     "text": [
      "Movie recommendations for  Chris Duncan :\n",
      "1 . Vertigo : 4.5\n",
      "2 . Scarface : 4.17\n",
      "3 . Goodfellas : 4.0\n",
      "4 . Roman Holiday : 1.25\n"
     ]
    }
   ],
   "source": [
    "user = \"Chris Duncan\"\n",
    "\n",
    "print(\"Movie recommendations for \", user, \":\")\n",
    "movies = get_recommendations(data, user)\n",
    "for i, movie in enumerate(movies):\n",
    "    print(str(i+1), \".\", movie[0], \":\", round(movie[1],2))"
   ]
  },
  {
   "cell_type": "code",
   "execution_count": null,
   "metadata": {},
   "outputs": [],
   "source": []
  }
 ],
 "metadata": {
  "kernelspec": {
   "display_name": ".venv",
   "language": "python",
   "name": "python3"
  },
  "language_info": {
   "codemirror_mode": {
    "name": "ipython",
    "version": 3
   },
   "file_extension": ".py",
   "mimetype": "text/x-python",
   "name": "python",
   "nbconvert_exporter": "python",
   "pygments_lexer": "ipython3",
   "version": "3.10.6"
  },
  "vscode": {
   "interpreter": {
    "hash": "48826e31ccc99c6f7ef9ff3cc7e18e1d801c96c784d8e26b62c6d8ced4b0143a"
   }
  }
 },
 "nbformat": 4,
 "nbformat_minor": 2
}
