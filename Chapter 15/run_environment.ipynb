{
 "cells": [
  {
   "cell_type": "code",
   "execution_count": 1,
   "metadata": {},
   "outputs": [
    {
     "name": "stdout",
     "output_type": "stream",
     "text": [
      " 100"
     ]
    }
   ],
   "source": [
    "import gymnasium as gym\n",
    "    \n",
    "name_map = ['CartPole-v1', \n",
    "            'MountainCar-v0',\n",
    "            'Pendulum-v0']\n",
    "\n",
    "example = 0\n",
    "env = gym.make(name_map[example], render_mode=\"human\")\n",
    "observation, info = env.reset()\n",
    "\n",
    "for i in range(100):\n",
    "    print(\"\\r\", i+1, end=\"\")\n",
    "\n",
    "    action = env.action_space.sample()\n",
    "    observation, reward, terminated, truncated, info = env.step(action)\n",
    "    \n",
    "    if terminated or truncated:\n",
    "        observation, info = env.reset()\n",
    "\n",
    "env.close()"
   ]
  }
 ],
 "metadata": {
  "kernelspec": {
   "display_name": "Python 3",
   "language": "python",
   "name": "python3"
  },
  "language_info": {
   "codemirror_mode": {
    "name": "ipython",
    "version": 3
   },
   "file_extension": ".py",
   "mimetype": "text/x-python",
   "name": "python",
   "nbconvert_exporter": "python",
   "pygments_lexer": "ipython3",
   "version": "3.10.6"
  }
 },
 "nbformat": 4,
 "nbformat_minor": 2
}
