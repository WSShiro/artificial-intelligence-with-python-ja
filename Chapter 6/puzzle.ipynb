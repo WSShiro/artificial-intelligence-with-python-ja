{
 "cells": [
  {
   "cell_type": "code",
   "execution_count": 3,
   "metadata": {},
   "outputs": [
    {
     "name": "stdout",
     "output_type": "stream",
     "text": [
      "Matthew is the owner of the rabbit\n"
     ]
    }
   ],
   "source": [
    "from kanren import * \n",
    "\n",
    "people = var() \n",
    "\n",
    "rules = lall( \n",
    "    eq((var(), var(), var(), var()), people), \n",
    "    membero(('Steve', var(), 'blue', var()), people), \n",
    "    membero((var(), 'cat', var(), 'Canada'), people),\n",
    "    membero(('Matthew', var(), var(), 'USA'), people),\n",
    "    membero((var(), var(), 'black', 'Australia'), people),\n",
    "    membero(('Jack', 'cat', var(), var()), people),\n",
    "    membero(('Alfred', var(), var(), 'Australia'), people),\n",
    "    membero((var(), 'dog', var(), 'France'), people),\n",
    "    membero((var(), 'rabbit', var(), var()), people) \n",
    ")\n",
    "  \n",
    "solutions = run(0, people, rules)    \n",
    "output = [house for house in solutions[0] if 'rabbit' in house][0][0]     \n",
    "print(output + ' is the owner of the rabbit')     "
   ]
  },
  {
   "cell_type": "code",
   "execution_count": 4,
   "metadata": {},
   "outputs": [
    {
     "name": "stdout",
     "output_type": "stream",
     "text": [
      "Here are all the details:\n",
      "\n",
      "Name\t\tPet\t\tColor\t\tCountry\n",
      "=========================================================\n",
      "Jack\t\tcat\t\t~_36\t\tCanada\n",
      "Steve\t\tdog\t\tblue\t\tFrance\n",
      "Matthew\t\trabbit\t\t~_43\t\tUSA\n",
      "Alfred\t\t~_38\t\tblack\t\tAustralia\n"
     ]
    }
   ],
   "source": [
    "print('Here are all the details:') \n",
    "attribs = ['Name', 'Pet', 'Color', 'Country'] \n",
    "print('\\n' + '\\t\\t'.join(attribs)) \n",
    "print('=' * 57) \n",
    "\n",
    "for item in solutions[0]: \n",
    "    print('\\t\\t'.join([str(x) for x in item])) "
   ]
  },
  {
   "cell_type": "code",
   "execution_count": null,
   "metadata": {},
   "outputs": [],
   "source": []
  }
 ],
 "metadata": {
  "kernelspec": {
   "display_name": "Python 3",
   "language": "python",
   "name": "python3"
  },
  "language_info": {
   "codemirror_mode": {
    "name": "ipython",
    "version": 3
   },
   "file_extension": ".py",
   "mimetype": "text/x-python",
   "name": "python",
   "nbconvert_exporter": "python",
   "pygments_lexer": "ipython3",
   "version": "3.10.6"
  }
 },
 "nbformat": 4,
 "nbformat_minor": 2
}
