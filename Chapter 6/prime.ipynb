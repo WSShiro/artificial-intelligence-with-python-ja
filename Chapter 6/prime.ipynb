{
 "cells": [
  {
   "cell_type": "code",
   "execution_count": 1,
   "metadata": {},
   "outputs": [
    {
     "name": "stdout",
     "output_type": "stream",
     "text": [
      "List of primes in the list:\n",
      "{23}\n"
     ]
    }
   ],
   "source": [
    "# pip install miniKanren (https://github.com/pythological/kanren)\n",
    "\n",
    "import itertools as it \n",
    "from kanren import isvar, membero, var, run, eq\n",
    "from kanren.core import succeed, fail, conde\n",
    "from sympy.ntheory.generate import prime, isprime \n",
    "\n",
    "# xが素数かどうかを判定する\n",
    "def check_prime(x): \n",
    "    if isvar(x): \n",
    "        return conde([eq(x, p)] for p in map(prime, it.count(1))) \n",
    "    else: \n",
    "        return succeed if isprime(x) else fail \n",
    "\n",
    "x = var() \n",
    "\n",
    "list_nums = (23, 4, 27, 17, 13, 10, 21, 29, 3, 32, 11, 19)\n",
    "print('List of primes in the list:') \n",
    "print(set(run(1, x, membero(x, list_nums), check_prime(x))))"
   ]
  },
  {
   "cell_type": "code",
   "execution_count": 2,
   "metadata": {},
   "outputs": [
    {
     "name": "stdout",
     "output_type": "stream",
     "text": [
      "List of var in the list:\n",
      "(2, 3, 5, 7, 11, 13, 17, 19, 23, 29)\n"
     ]
    }
   ],
   "source": [
    "print('List of var in the list:') \n",
    "print(run(10, x, check_prime(x))) \n"
   ]
  },
  {
   "cell_type": "code",
   "execution_count": 3,
   "metadata": {
    "scrolled": true
   },
   "outputs": [
    {
     "name": "stdout",
     "output_type": "stream",
     "text": [
      "List of first 7 prime numbers:\n",
      "(23, 4, 27, 17, 13, 10, 21, 29, 3, 32, 11, 19)\n"
     ]
    }
   ],
   "source": [
    "print('List of first 7 prime numbers:') \n",
    "print(run(0, x, membero( x, list_nums))) "
   ]
  }
 ],
 "metadata": {
  "kernelspec": {
   "display_name": "Python 3",
   "language": "python",
   "name": "python3"
  },
  "language_info": {
   "codemirror_mode": {
    "name": "ipython",
    "version": 3
   },
   "file_extension": ".py",
   "mimetype": "text/x-python",
   "name": "python",
   "nbconvert_exporter": "python",
   "pygments_lexer": "ipython3",
   "version": "3.6.7"
  }
 },
 "nbformat": 4,
 "nbformat_minor": 2
}
