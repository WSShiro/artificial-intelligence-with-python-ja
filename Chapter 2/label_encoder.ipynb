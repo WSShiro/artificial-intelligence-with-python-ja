{
 "cells": [
  {
   "cell_type": "code",
   "execution_count": 1,
   "metadata": {},
   "outputs": [
    {
     "name": "stdout",
     "output_type": "stream",
     "text": [
      "Label mapping:\n",
      "black --> 0\n",
      "green --> 1\n",
      "red --> 2\n",
      "white --> 3\n",
      "yellow --> 4\n",
      "Labels = ['green', 'red', 'black']\n",
      "Encoded values = [1, 2, 0]\n"
     ]
    }
   ],
   "source": [
    "import numpy as np \n",
    "from sklearn import preprocessing\n",
    "\n",
    "input_labels = ['red', 'black', 'red', 'green', 'black', 'yellow', 'white'] \n",
    "\n",
    "encoder = preprocessing.LabelEncoder() \n",
    "encoder.fit(input_labels) \n",
    "\n",
    "print(\"Label mapping:\") \n",
    "for i, item in enumerate(encoder.classes_): \n",
    "    print(item, '-->', i) \n",
    "    \n",
    "test_labels = ['green', 'red', 'black'] \n",
    "encoded_values = encoder.transform(test_labels) \n",
    "print(\"Labels =\", test_labels) \n",
    "print(\"Encoded values =\", list(encoded_values))     "
   ]
  },
  {
   "cell_type": "code",
   "execution_count": 2,
   "metadata": {},
   "outputs": [
    {
     "name": "stdout",
     "output_type": "stream",
     "text": [
      "Encoded values = [3, 0, 4, 1]\n",
      "Decoded labels = ['white', 'black', 'yellow', 'green']\n"
     ]
    }
   ],
   "source": [
    "encoded_values = [3, 0, 4, 1] \n",
    "decoded_list = encoder.inverse_transform(encoded_values) \n",
    "print(\"Encoded values =\", encoded_values) \n",
    "print(\"Decoded labels =\", list(decoded_list)) "
   ]
  },
  {
   "cell_type": "code",
   "execution_count": null,
   "metadata": {},
   "outputs": [],
   "source": []
  }
 ],
 "metadata": {
  "kernelspec": {
   "display_name": ".venv",
   "language": "python",
   "name": "python3"
  },
  "language_info": {
   "codemirror_mode": {
    "name": "ipython",
    "version": 3
   },
   "file_extension": ".py",
   "mimetype": "text/x-python",
   "name": "python",
   "nbconvert_exporter": "python",
   "pygments_lexer": "ipython3",
   "version": "3.10.6"
  },
  "vscode": {
   "interpreter": {
    "hash": "b8e51924401e2debb21f859dbeaff200e02be31b53475fd595d3443350e68a8c"
   }
  }
 },
 "nbformat": 4,
 "nbformat_minor": 2
}
