{
 "cells": [
  {
   "cell_type": "code",
   "execution_count": 29,
   "metadata": {},
   "outputs": [
    {
     "name": "stdout",
     "output_type": "stream",
     "text": [
      "num of class1: 22654\n",
      "num of class2: 7508\n",
      "F1 score: 76.08%\n"
     ]
    }
   ],
   "source": [
    "import numpy as np \n",
    "import matplotlib.pyplot as plt \n",
    "%matplotlib inline\n",
    "from sklearn import preprocessing \n",
    "from sklearn.svm import LinearSVC \n",
    "from sklearn.multiclass import OneVsOneClassifier \n",
    "from sklearn import model_selection\n",
    "\n",
    "input_file = 'income_data.txt' \n",
    "\n",
    "Xy = [] \n",
    "count_class1 = 0 \n",
    "count_class2 = 0 \n",
    "max_datapoints = 25000 \n",
    "\n",
    "with open(input_file, 'r') as f: \n",
    "    for line in f.readlines(): \n",
    "        if count_class1 >= max_datapoints and count_class2 >= max_datapoints: \n",
    "            break \n",
    "\n",
    "        if '?' in line: \n",
    "            continue \n",
    "            \n",
    "        data = line[:-1].split(', ') \n",
    "\n",
    "        if data[-1] == '<=50K' and count_class1 < max_datapoints: \n",
    "            Xy.append(data) \n",
    "            count_class1 += 1 \n",
    "\n",
    "        if data[-1] == '>50K' and count_class2 < max_datapoints: \n",
    "            Xy.append(data) \n",
    "            count_class2 += 1 \n",
    "            \n",
    "print(\"num of class1: \" + str(count_class1))\n",
    "print(\"num of class2: \" + str(count_class2))\n",
    "Xy = np.array(Xy)\n",
    "\n",
    "label_encoder = [] \n",
    "Xy_encoded = np.empty(Xy.shape) \n",
    "for i,item in enumerate(Xy[0]): \n",
    "    if item.isdigit(): \n",
    "        Xy_encoded[:, i] = Xy[:, i]\n",
    "    else: \n",
    "        encoder = preprocessing.LabelEncoder()\n",
    "        Xy_encoded[:, i] = encoder.fit_transform(Xy[:, i])\n",
    "        label_encoder.append(encoder) \n",
    "        \n",
    "X = Xy_encoded[:, :-1].astype(int)\n",
    "y = Xy_encoded[:, -1].astype(int)\n",
    "\n",
    "X_train, X_test, y_train, y_test = model_selection.train_test_split(X, y, \n",
    "                                       test_size=0.2, random_state=5) \n",
    "\n",
    "classifier = LinearSVC(dual=False) \n",
    "classifier.fit(X_train, y_train) \n",
    "y_test_pred = classifier.predict(X_test) \n",
    "\n",
    "f1 = model_selection.cross_val_score(classifier, X, y, scoring='f1_weighted', cv=3) \n",
    "print(\"F1 score: \" + str(round(100*f1.mean(), 2)) + \"%\") "
   ]
  },
  {
   "cell_type": "code",
   "execution_count": 26,
   "metadata": {},
   "outputs": [
    {
     "name": "stdout",
     "output_type": "stream",
     "text": [
      "['<=50K' '>50K']\n"
     ]
    }
   ],
   "source": [
    "input_data = np.array([\n",
    "    ['37', 'Private', '215646', 'HS-grad', '9', 'Never-married', \n",
    "     'Handlers-cleaners', 'Not-in-family', 'White', 'Male', '0', '0', '40',\n",
    "     'United-States'],\n",
    "    ['55', 'Private', '287927', 'Doctorate', '16', 'Married-civ-spouse', \n",
    "     'Exec-managerial', 'Husband', 'White', 'Female', '15000', '0', '40',\n",
    "     'United-States']])                       \n",
    "\n",
    "input_data_encoded = np.zeros(input_data.shape) \n",
    "count = 0 \n",
    "for i, item in enumerate(input_data[0]): \n",
    "    if item.isdigit(): \n",
    "        input_data_encoded[:,i] = input_data[:,i] \n",
    "    else: \n",
    "        input_data_encoded[:,i] = label_encoder[count].transform(input_data[:,i]) \n",
    "        count += 1 \n",
    "\n",
    "predicted_class = classifier.predict(input_data_encoded) \n",
    "print(label_encoder[-1].inverse_transform(predicted_class)) "
   ]
  },
  {
   "cell_type": "code",
   "execution_count": null,
   "metadata": {},
   "outputs": [],
   "source": []
  }
 ],
 "metadata": {
  "kernelspec": {
   "display_name": ".venv",
   "language": "python",
   "name": "python3"
  },
  "language_info": {
   "codemirror_mode": {
    "name": "ipython",
    "version": 3
   },
   "file_extension": ".py",
   "mimetype": "text/x-python",
   "name": "python",
   "nbconvert_exporter": "python",
   "pygments_lexer": "ipython3",
   "version": "3.10.6"
  },
  "vscode": {
   "interpreter": {
    "hash": "b8e51924401e2debb21f859dbeaff200e02be31b53475fd595d3443350e68a8c"
   }
  }
 },
 "nbformat": 4,
 "nbformat_minor": 2
}
