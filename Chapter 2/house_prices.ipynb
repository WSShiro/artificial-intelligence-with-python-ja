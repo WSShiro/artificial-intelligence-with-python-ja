{
 "cells": [
  {
   "cell_type": "code",
   "execution_count": 10,
   "metadata": {},
   "outputs": [
    {
     "name": "stdout",
     "output_type": "stream",
     "text": [
      "#### Performance ####\n",
      "Mean squared error = 5378.72\n",
      "Explained variance score = 0.03\n"
     ]
    }
   ],
   "source": [
    "import numpy as np \n",
    "from sklearn import datasets \n",
    "from sklearn.svm import SVR \n",
    "from sklearn.metrics import mean_squared_error, explained_variance_score \n",
    "from sklearn.utils import shuffle \n",
    "\n",
    "data = datasets.load_diabetes() \n",
    "X, y = shuffle(data.data, data.target, random_state=7) \n",
    "\n",
    "num_training = int(0.8 * len(X)) \n",
    "X_train, y_train = X[:num_training], y[:num_training] \n",
    "X_test, y_test = X[num_training:], y[num_training:] \n",
    "\n",
    "sv_regressor = SVR(kernel='linear', C=1.0, epsilon=0.1) \n",
    "sv_regressor.fit(X_train, y_train) \n",
    "\n",
    "y_test_pred = sv_regressor.predict(X_test) \n",
    "mse = mean_squared_error(y_test, y_test_pred) \n",
    "evs = explained_variance_score(y_test, y_test_pred) \n",
    "print(\"#### Performance ####\") \n",
    "print(\"Mean squared error =\", round(mse, 2)) \n",
    "print(\"Explained variance score =\", round(evs, 2)) "
   ]
  },
  {
   "cell_type": "code",
   "execution_count": 11,
   "metadata": {},
   "outputs": [
    {
     "name": "stdout",
     "output_type": "stream",
     "text": [
      "Dataset: \n",
      "[[ 0.07  0.05 -0.01  0.05  0.06 -0.   -0.05  0.11  0.13  0.06]\n",
      " [ 0.03 -0.04  0.1   0.08 -0.01 -0.01 -0.06  0.03  0.06  0.04]\n",
      " [ 0.02 -0.04 -0.04 -0.02 -0.01 -0.02  0.05 -0.04 -0.03  0.  ]]\n",
      "Ground Truth: [248. 270.  72.]\n",
      "Predicted: [142.4  142.04 138.3 ]\n"
     ]
    }
   ],
   "source": [
    "np.set_printoptions(precision=2)\n",
    "\n",
    "print(f\"Dataset: \\n{X_test[0:3,:]}\") \n",
    "print(f\"Ground Truth: {y_test[0:3]}\") \n",
    "print(f\"Predicted: {y_test_pred[0:3]}\") "
   ]
  },
  {
   "cell_type": "code",
   "execution_count": null,
   "metadata": {},
   "outputs": [],
   "source": []
  }
 ],
 "metadata": {
  "kernelspec": {
   "display_name": ".venv",
   "language": "python",
   "name": "python3"
  },
  "language_info": {
   "codemirror_mode": {
    "name": "ipython",
    "version": 3
   },
   "file_extension": ".py",
   "mimetype": "text/x-python",
   "name": "python",
   "nbconvert_exporter": "python",
   "pygments_lexer": "ipython3",
   "version": "3.10.6"
  },
  "vscode": {
   "interpreter": {
    "hash": "820d5de5db7c2921ed6093887b41a108de48915c9a4ce865082509d320589a5b"
   }
  }
 },
 "nbformat": 4,
 "nbformat_minor": 2
}
