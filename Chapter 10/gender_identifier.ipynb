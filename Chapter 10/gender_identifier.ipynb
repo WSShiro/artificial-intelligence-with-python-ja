{
 "cells": [
  {
   "cell_type": "code",
   "execution_count": 1,
   "metadata": {},
   "outputs": [
    {
     "name": "stdout",
     "output_type": "stream",
     "text": [
      "\n",
      "Number of end letters: 1\n",
      "Accuracy = 74.7%\n",
      "Alexander ==> male\n",
      "Danielle ==> female\n",
      "David ==> male\n",
      "Cheryl ==> male\n",
      "\n",
      "Number of end letters: 2\n",
      "Accuracy = 78.79%\n",
      "Alexander ==> male\n",
      "Danielle ==> female\n",
      "David ==> male\n",
      "Cheryl ==> female\n",
      "\n",
      "Number of end letters: 3\n",
      "Accuracy = 77.22%\n",
      "Alexander ==> male\n",
      "Danielle ==> female\n",
      "David ==> male\n",
      "Cheryl ==> female\n",
      "\n",
      "Number of end letters: 4\n",
      "Accuracy = 69.98%\n",
      "Alexander ==> male\n",
      "Danielle ==> female\n",
      "David ==> male\n",
      "Cheryl ==> female\n",
      "\n",
      "Number of end letters: 5\n",
      "Accuracy = 64.63%\n",
      "Alexander ==> male\n",
      "Danielle ==> female\n",
      "David ==> male\n",
      "Cheryl ==> female\n"
     ]
    }
   ],
   "source": [
    "import random \n",
    "\n",
    "from nltk import NaiveBayesClassifier \n",
    "from nltk.classify import accuracy as nltk_accuracy \n",
    "from nltk.corpus import names \n",
    "\n",
    "def extract_features(word, N=2): \n",
    "    last_n_letters = word[-N:] \n",
    "    return {'feature': last_n_letters.lower()} \n",
    "\n",
    "male_list = [(name, 'male') for name in names.words('male.txt')] \n",
    "female_list = [(name, 'female') for name in names.words('female.txt')] \n",
    "data = (male_list + female_list) \n",
    "num_train = int(0.8 * len(data))\n",
    "\n",
    "random.seed(5) \n",
    "random.shuffle(data) \n",
    "\n",
    "for i in range(1, 6): \n",
    "    print('\\nNumber of end letters:', i) \n",
    "    features = [(extract_features(n, i), gender) for (n, gender) in data] \n",
    "    train_data, test_data = features[:num_train], features[num_train:] \n",
    "    classifier = NaiveBayesClassifier.train(train_data) \n",
    "\n",
    "    accuracy = round(100 * nltk_accuracy(classifier, test_data), 2) \n",
    "    print('Accuracy = ' + str(accuracy) + '%') \n",
    "\n",
    "    input_names = ['Alexander', 'Danielle', 'David', 'Cheryl'] \n",
    "    for name in input_names: \n",
    "        print(name, '==>', classifier.classify(extract_features(name, i))) \n",
    "    "
   ]
  },
  {
   "cell_type": "code",
   "execution_count": null,
   "metadata": {},
   "outputs": [],
   "source": []
  }
 ],
 "metadata": {
  "kernelspec": {
   "display_name": "Python 3",
   "language": "python",
   "name": "python3"
  },
  "language_info": {
   "codemirror_mode": {
    "name": "ipython",
    "version": 3
   },
   "file_extension": ".py",
   "mimetype": "text/x-python",
   "name": "python",
   "nbconvert_exporter": "python",
   "pygments_lexer": "ipython3",
   "version": "3.10.6"
  }
 },
 "nbformat": 4,
 "nbformat_minor": 2
}
