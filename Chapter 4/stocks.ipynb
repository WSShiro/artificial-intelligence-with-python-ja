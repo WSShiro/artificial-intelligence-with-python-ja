{
 "cells": [
  {
   "cell_type": "code",
   "execution_count": 1,
   "metadata": {
    "scrolled": false
   },
   "outputs": [
    {
     "name": "stdout",
     "output_type": "stream",
     "text": [
      "Loading TOT Total..."
     ]
    },
    {
     "name": "stderr",
     "output_type": "stream",
     "text": [
      "/tmp/ipykernel_19626/3098801585.py:24: FutureWarning: the 'access_key'' keyword is deprecated, use 'api_key' instead.\n",
      "  d = pdd.DataReader('WIKI/' + symbol, 'quandl', start_date, end_date,\n"
     ]
    },
    {
     "name": "stdout",
     "output_type": "stream",
     "text": [
      "not found.\n",
      "Loading XOM Exxon...done.\n",
      "Loading CVX Chevron..."
     ]
    },
    {
     "name": "stderr",
     "output_type": "stream",
     "text": [
      "/tmp/ipykernel_19626/3098801585.py:24: FutureWarning: the 'access_key'' keyword is deprecated, use 'api_key' instead.\n",
      "  d = pdd.DataReader('WIKI/' + symbol, 'quandl', start_date, end_date,\n"
     ]
    },
    {
     "name": "stdout",
     "output_type": "stream",
     "text": [
      "done.\n",
      "Loading COP ConocoPhillips..."
     ]
    },
    {
     "name": "stderr",
     "output_type": "stream",
     "text": [
      "/tmp/ipykernel_19626/3098801585.py:24: FutureWarning: the 'access_key'' keyword is deprecated, use 'api_key' instead.\n",
      "  d = pdd.DataReader('WIKI/' + symbol, 'quandl', start_date, end_date,\n"
     ]
    },
    {
     "name": "stdout",
     "output_type": "stream",
     "text": [
      "done.\n",
      "Loading VLO Valero Energy..."
     ]
    },
    {
     "name": "stderr",
     "output_type": "stream",
     "text": [
      "/tmp/ipykernel_19626/3098801585.py:24: FutureWarning: the 'access_key'' keyword is deprecated, use 'api_key' instead.\n",
      "  d = pdd.DataReader('WIKI/' + symbol, 'quandl', start_date, end_date,\n"
     ]
    },
    {
     "name": "stdout",
     "output_type": "stream",
     "text": [
      "done.\n",
      "Loading MSFT Microsoft..."
     ]
    },
    {
     "name": "stderr",
     "output_type": "stream",
     "text": [
      "/tmp/ipykernel_19626/3098801585.py:24: FutureWarning: the 'access_key'' keyword is deprecated, use 'api_key' instead.\n",
      "  d = pdd.DataReader('WIKI/' + symbol, 'quandl', start_date, end_date,\n"
     ]
    },
    {
     "name": "stdout",
     "output_type": "stream",
     "text": [
      "done.\n",
      "Loading IBM IBM..."
     ]
    },
    {
     "name": "stderr",
     "output_type": "stream",
     "text": [
      "/tmp/ipykernel_19626/3098801585.py:24: FutureWarning: the 'access_key'' keyword is deprecated, use 'api_key' instead.\n",
      "  d = pdd.DataReader('WIKI/' + symbol, 'quandl', start_date, end_date,\n"
     ]
    },
    {
     "name": "stdout",
     "output_type": "stream",
     "text": [
      "done.\n",
      "Loading TWX Time Warner..."
     ]
    },
    {
     "name": "stderr",
     "output_type": "stream",
     "text": [
      "/tmp/ipykernel_19626/3098801585.py:24: FutureWarning: the 'access_key'' keyword is deprecated, use 'api_key' instead.\n",
      "  d = pdd.DataReader('WIKI/' + symbol, 'quandl', start_date, end_date,\n"
     ]
    },
    {
     "name": "stdout",
     "output_type": "stream",
     "text": [
      "done.\n",
      "Loading CMCSA Comcast..."
     ]
    },
    {
     "name": "stderr",
     "output_type": "stream",
     "text": [
      "/tmp/ipykernel_19626/3098801585.py:24: FutureWarning: the 'access_key'' keyword is deprecated, use 'api_key' instead.\n",
      "  d = pdd.DataReader('WIKI/' + symbol, 'quandl', start_date, end_date,\n"
     ]
    },
    {
     "name": "stdout",
     "output_type": "stream",
     "text": [
      "done.\n",
      "Loading YHOO Yahoo..."
     ]
    },
    {
     "name": "stderr",
     "output_type": "stream",
     "text": [
      "/tmp/ipykernel_19626/3098801585.py:24: FutureWarning: the 'access_key'' keyword is deprecated, use 'api_key' instead.\n",
      "  d = pdd.DataReader('WIKI/' + symbol, 'quandl', start_date, end_date,\n"
     ]
    },
    {
     "name": "stdout",
     "output_type": "stream",
     "text": [
      "done.\n",
      "Loading HPQ HP..."
     ]
    },
    {
     "name": "stderr",
     "output_type": "stream",
     "text": [
      "/tmp/ipykernel_19626/3098801585.py:24: FutureWarning: the 'access_key'' keyword is deprecated, use 'api_key' instead.\n",
      "  d = pdd.DataReader('WIKI/' + symbol, 'quandl', start_date, end_date,\n"
     ]
    },
    {
     "name": "stdout",
     "output_type": "stream",
     "text": [
      "done.\n",
      "Loading AMZN Amazon..."
     ]
    },
    {
     "name": "stderr",
     "output_type": "stream",
     "text": [
      "/tmp/ipykernel_19626/3098801585.py:24: FutureWarning: the 'access_key'' keyword is deprecated, use 'api_key' instead.\n",
      "  d = pdd.DataReader('WIKI/' + symbol, 'quandl', start_date, end_date,\n"
     ]
    },
    {
     "name": "stdout",
     "output_type": "stream",
     "text": [
      "done.\n",
      "Loading TM Toyota..."
     ]
    },
    {
     "name": "stderr",
     "output_type": "stream",
     "text": [
      "/tmp/ipykernel_19626/3098801585.py:24: FutureWarning: the 'access_key'' keyword is deprecated, use 'api_key' instead.\n",
      "  d = pdd.DataReader('WIKI/' + symbol, 'quandl', start_date, end_date,\n"
     ]
    },
    {
     "name": "stdout",
     "output_type": "stream",
     "text": [
      "not found.\n",
      "Loading CAJ Canon...not found.\n",
      "Loading MTU Mitsubishi...not found.\n",
      "Loading SNE Sony...not found.\n",
      "Loading F Ford...done.\n",
      "Loading HMC Honda..."
     ]
    },
    {
     "name": "stderr",
     "output_type": "stream",
     "text": [
      "/tmp/ipykernel_19626/3098801585.py:24: FutureWarning: the 'access_key'' keyword is deprecated, use 'api_key' instead.\n",
      "  d = pdd.DataReader('WIKI/' + symbol, 'quandl', start_date, end_date,\n"
     ]
    },
    {
     "name": "stdout",
     "output_type": "stream",
     "text": [
      "not found.\n",
      "Loading NAV Navistar...done.\n",
      "Loading NOC Northrop Grumman..."
     ]
    },
    {
     "name": "stderr",
     "output_type": "stream",
     "text": [
      "/tmp/ipykernel_19626/3098801585.py:24: FutureWarning: the 'access_key'' keyword is deprecated, use 'api_key' instead.\n",
      "  d = pdd.DataReader('WIKI/' + symbol, 'quandl', start_date, end_date,\n"
     ]
    },
    {
     "name": "stdout",
     "output_type": "stream",
     "text": [
      "done.\n",
      "Loading BA Boeing..."
     ]
    },
    {
     "name": "stderr",
     "output_type": "stream",
     "text": [
      "/tmp/ipykernel_19626/3098801585.py:24: FutureWarning: the 'access_key'' keyword is deprecated, use 'api_key' instead.\n",
      "  d = pdd.DataReader('WIKI/' + symbol, 'quandl', start_date, end_date,\n"
     ]
    },
    {
     "name": "stdout",
     "output_type": "stream",
     "text": [
      "done.\n",
      "Loading KO Coca Cola..."
     ]
    },
    {
     "name": "stderr",
     "output_type": "stream",
     "text": [
      "/tmp/ipykernel_19626/3098801585.py:24: FutureWarning: the 'access_key'' keyword is deprecated, use 'api_key' instead.\n",
      "  d = pdd.DataReader('WIKI/' + symbol, 'quandl', start_date, end_date,\n"
     ]
    },
    {
     "name": "stdout",
     "output_type": "stream",
     "text": [
      "done.\n",
      "Loading MMM 3M..."
     ]
    },
    {
     "name": "stderr",
     "output_type": "stream",
     "text": [
      "/tmp/ipykernel_19626/3098801585.py:24: FutureWarning: the 'access_key'' keyword is deprecated, use 'api_key' instead.\n",
      "  d = pdd.DataReader('WIKI/' + symbol, 'quandl', start_date, end_date,\n"
     ]
    },
    {
     "name": "stdout",
     "output_type": "stream",
     "text": [
      "done.\n",
      "Loading MCD Mc Donalds..."
     ]
    },
    {
     "name": "stderr",
     "output_type": "stream",
     "text": [
      "/tmp/ipykernel_19626/3098801585.py:24: FutureWarning: the 'access_key'' keyword is deprecated, use 'api_key' instead.\n",
      "  d = pdd.DataReader('WIKI/' + symbol, 'quandl', start_date, end_date,\n"
     ]
    },
    {
     "name": "stdout",
     "output_type": "stream",
     "text": [
      "done.\n",
      "Loading PEP Pepsi..."
     ]
    },
    {
     "name": "stderr",
     "output_type": "stream",
     "text": [
      "/tmp/ipykernel_19626/3098801585.py:24: FutureWarning: the 'access_key'' keyword is deprecated, use 'api_key' instead.\n",
      "  d = pdd.DataReader('WIKI/' + symbol, 'quandl', start_date, end_date,\n"
     ]
    },
    {
     "name": "stdout",
     "output_type": "stream",
     "text": [
      "done.\n",
      "Loading MDLZ Kraft Foods..."
     ]
    },
    {
     "name": "stderr",
     "output_type": "stream",
     "text": [
      "/tmp/ipykernel_19626/3098801585.py:24: FutureWarning: the 'access_key'' keyword is deprecated, use 'api_key' instead.\n",
      "  d = pdd.DataReader('WIKI/' + symbol, 'quandl', start_date, end_date,\n"
     ]
    },
    {
     "name": "stdout",
     "output_type": "stream",
     "text": [
      "done.\n",
      "Loading K Kellogg..."
     ]
    },
    {
     "name": "stderr",
     "output_type": "stream",
     "text": [
      "/tmp/ipykernel_19626/3098801585.py:24: FutureWarning: the 'access_key'' keyword is deprecated, use 'api_key' instead.\n",
      "  d = pdd.DataReader('WIKI/' + symbol, 'quandl', start_date, end_date,\n"
     ]
    },
    {
     "name": "stdout",
     "output_type": "stream",
     "text": [
      "done.\n",
      "Loading UN Unilever..."
     ]
    },
    {
     "name": "stderr",
     "output_type": "stream",
     "text": [
      "/tmp/ipykernel_19626/3098801585.py:24: FutureWarning: the 'access_key'' keyword is deprecated, use 'api_key' instead.\n",
      "  d = pdd.DataReader('WIKI/' + symbol, 'quandl', start_date, end_date,\n"
     ]
    },
    {
     "name": "stdout",
     "output_type": "stream",
     "text": [
      "not found.\n",
      "Loading MAR Marriott...done.\n",
      "Loading PG Procter Gamble..."
     ]
    },
    {
     "name": "stderr",
     "output_type": "stream",
     "text": [
      "/tmp/ipykernel_19626/3098801585.py:24: FutureWarning: the 'access_key'' keyword is deprecated, use 'api_key' instead.\n",
      "  d = pdd.DataReader('WIKI/' + symbol, 'quandl', start_date, end_date,\n"
     ]
    },
    {
     "name": "stdout",
     "output_type": "stream",
     "text": [
      "done.\n",
      "Loading CL Colgate-Palmolive..."
     ]
    },
    {
     "name": "stderr",
     "output_type": "stream",
     "text": [
      "/tmp/ipykernel_19626/3098801585.py:24: FutureWarning: the 'access_key'' keyword is deprecated, use 'api_key' instead.\n",
      "  d = pdd.DataReader('WIKI/' + symbol, 'quandl', start_date, end_date,\n"
     ]
    },
    {
     "name": "stdout",
     "output_type": "stream",
     "text": [
      "done.\n",
      "Loading GE General Electrics..."
     ]
    },
    {
     "name": "stderr",
     "output_type": "stream",
     "text": [
      "/tmp/ipykernel_19626/3098801585.py:24: FutureWarning: the 'access_key'' keyword is deprecated, use 'api_key' instead.\n",
      "  d = pdd.DataReader('WIKI/' + symbol, 'quandl', start_date, end_date,\n"
     ]
    },
    {
     "name": "stdout",
     "output_type": "stream",
     "text": [
      "done.\n",
      "Loading WFC Wells Fargo..."
     ]
    },
    {
     "name": "stderr",
     "output_type": "stream",
     "text": [
      "/tmp/ipykernel_19626/3098801585.py:24: FutureWarning: the 'access_key'' keyword is deprecated, use 'api_key' instead.\n",
      "  d = pdd.DataReader('WIKI/' + symbol, 'quandl', start_date, end_date,\n"
     ]
    },
    {
     "name": "stdout",
     "output_type": "stream",
     "text": [
      "done.\n",
      "Loading JPM JPMorgan Chase..."
     ]
    },
    {
     "name": "stderr",
     "output_type": "stream",
     "text": [
      "/tmp/ipykernel_19626/3098801585.py:24: FutureWarning: the 'access_key'' keyword is deprecated, use 'api_key' instead.\n",
      "  d = pdd.DataReader('WIKI/' + symbol, 'quandl', start_date, end_date,\n"
     ]
    },
    {
     "name": "stdout",
     "output_type": "stream",
     "text": [
      "done.\n",
      "Loading AIG AIG..."
     ]
    },
    {
     "name": "stderr",
     "output_type": "stream",
     "text": [
      "/tmp/ipykernel_19626/3098801585.py:24: FutureWarning: the 'access_key'' keyword is deprecated, use 'api_key' instead.\n",
      "  d = pdd.DataReader('WIKI/' + symbol, 'quandl', start_date, end_date,\n"
     ]
    },
    {
     "name": "stdout",
     "output_type": "stream",
     "text": [
      "done.\n",
      "Loading AXP American express..."
     ]
    },
    {
     "name": "stderr",
     "output_type": "stream",
     "text": [
      "/tmp/ipykernel_19626/3098801585.py:24: FutureWarning: the 'access_key'' keyword is deprecated, use 'api_key' instead.\n",
      "  d = pdd.DataReader('WIKI/' + symbol, 'quandl', start_date, end_date,\n"
     ]
    },
    {
     "name": "stdout",
     "output_type": "stream",
     "text": [
      "done.\n",
      "Loading BAC Bank of America..."
     ]
    },
    {
     "name": "stderr",
     "output_type": "stream",
     "text": [
      "/tmp/ipykernel_19626/3098801585.py:24: FutureWarning: the 'access_key'' keyword is deprecated, use 'api_key' instead.\n",
      "  d = pdd.DataReader('WIKI/' + symbol, 'quandl', start_date, end_date,\n"
     ]
    },
    {
     "name": "stdout",
     "output_type": "stream",
     "text": [
      "done.\n",
      "Loading GS Goldman Sachs..."
     ]
    },
    {
     "name": "stderr",
     "output_type": "stream",
     "text": [
      "/tmp/ipykernel_19626/3098801585.py:24: FutureWarning: the 'access_key'' keyword is deprecated, use 'api_key' instead.\n",
      "  d = pdd.DataReader('WIKI/' + symbol, 'quandl', start_date, end_date,\n"
     ]
    },
    {
     "name": "stdout",
     "output_type": "stream",
     "text": [
      "done.\n",
      "Loading AAPL Apple..."
     ]
    },
    {
     "name": "stderr",
     "output_type": "stream",
     "text": [
      "/tmp/ipykernel_19626/3098801585.py:24: FutureWarning: the 'access_key'' keyword is deprecated, use 'api_key' instead.\n",
      "  d = pdd.DataReader('WIKI/' + symbol, 'quandl', start_date, end_date,\n"
     ]
    },
    {
     "name": "stdout",
     "output_type": "stream",
     "text": [
      "done.\n",
      "Loading SAP SAP..."
     ]
    },
    {
     "name": "stderr",
     "output_type": "stream",
     "text": [
      "/tmp/ipykernel_19626/3098801585.py:24: FutureWarning: the 'access_key'' keyword is deprecated, use 'api_key' instead.\n",
      "  d = pdd.DataReader('WIKI/' + symbol, 'quandl', start_date, end_date,\n"
     ]
    },
    {
     "name": "stdout",
     "output_type": "stream",
     "text": [
      "not found.\n",
      "Loading CSCO Cisco...done.\n",
      "Loading TXN Texas instruments..."
     ]
    },
    {
     "name": "stderr",
     "output_type": "stream",
     "text": [
      "/tmp/ipykernel_19626/3098801585.py:24: FutureWarning: the 'access_key'' keyword is deprecated, use 'api_key' instead.\n",
      "  d = pdd.DataReader('WIKI/' + symbol, 'quandl', start_date, end_date,\n"
     ]
    },
    {
     "name": "stdout",
     "output_type": "stream",
     "text": [
      "done.\n",
      "Loading XRX Xerox..."
     ]
    },
    {
     "name": "stderr",
     "output_type": "stream",
     "text": [
      "/tmp/ipykernel_19626/3098801585.py:24: FutureWarning: the 'access_key'' keyword is deprecated, use 'api_key' instead.\n",
      "  d = pdd.DataReader('WIKI/' + symbol, 'quandl', start_date, end_date,\n"
     ]
    },
    {
     "name": "stdout",
     "output_type": "stream",
     "text": [
      "done.\n",
      "Loading WMT Wal-Mart..."
     ]
    },
    {
     "name": "stderr",
     "output_type": "stream",
     "text": [
      "/tmp/ipykernel_19626/3098801585.py:24: FutureWarning: the 'access_key'' keyword is deprecated, use 'api_key' instead.\n",
      "  d = pdd.DataReader('WIKI/' + symbol, 'quandl', start_date, end_date,\n"
     ]
    },
    {
     "name": "stdout",
     "output_type": "stream",
     "text": [
      "done.\n",
      "Loading WBA Walgreen..."
     ]
    },
    {
     "name": "stderr",
     "output_type": "stream",
     "text": [
      "/tmp/ipykernel_19626/3098801585.py:24: FutureWarning: the 'access_key'' keyword is deprecated, use 'api_key' instead.\n",
      "  d = pdd.DataReader('WIKI/' + symbol, 'quandl', start_date, end_date,\n"
     ]
    },
    {
     "name": "stdout",
     "output_type": "stream",
     "text": [
      "done.\n",
      "Loading HD Home Depot..."
     ]
    },
    {
     "name": "stderr",
     "output_type": "stream",
     "text": [
      "/tmp/ipykernel_19626/3098801585.py:24: FutureWarning: the 'access_key'' keyword is deprecated, use 'api_key' instead.\n",
      "  d = pdd.DataReader('WIKI/' + symbol, 'quandl', start_date, end_date,\n"
     ]
    },
    {
     "name": "stdout",
     "output_type": "stream",
     "text": [
      "done.\n",
      "Loading GSK GlaxoSmithKline..."
     ]
    },
    {
     "name": "stderr",
     "output_type": "stream",
     "text": [
      "/tmp/ipykernel_19626/3098801585.py:24: FutureWarning: the 'access_key'' keyword is deprecated, use 'api_key' instead.\n",
      "  d = pdd.DataReader('WIKI/' + symbol, 'quandl', start_date, end_date,\n"
     ]
    },
    {
     "name": "stdout",
     "output_type": "stream",
     "text": [
      "not found.\n",
      "Loading PFE Pfizer...done.\n",
      "Loading SNY Sanofi-Aventis..."
     ]
    },
    {
     "name": "stderr",
     "output_type": "stream",
     "text": [
      "/tmp/ipykernel_19626/3098801585.py:24: FutureWarning: the 'access_key'' keyword is deprecated, use 'api_key' instead.\n",
      "  d = pdd.DataReader('WIKI/' + symbol, 'quandl', start_date, end_date,\n"
     ]
    },
    {
     "name": "stdout",
     "output_type": "stream",
     "text": [
      "not found.\n",
      "Loading NVS Novartis...not found.\n",
      "Loading KMB Kimberly-Clark...done.\n",
      "Loading R Ryder..."
     ]
    },
    {
     "name": "stderr",
     "output_type": "stream",
     "text": [
      "/tmp/ipykernel_19626/3098801585.py:24: FutureWarning: the 'access_key'' keyword is deprecated, use 'api_key' instead.\n",
      "  d = pdd.DataReader('WIKI/' + symbol, 'quandl', start_date, end_date,\n"
     ]
    },
    {
     "name": "stdout",
     "output_type": "stream",
     "text": [
      "done.\n",
      "Loading GD General Dynamics..."
     ]
    },
    {
     "name": "stderr",
     "output_type": "stream",
     "text": [
      "/tmp/ipykernel_19626/3098801585.py:24: FutureWarning: the 'access_key'' keyword is deprecated, use 'api_key' instead.\n",
      "  d = pdd.DataReader('WIKI/' + symbol, 'quandl', start_date, end_date,\n"
     ]
    },
    {
     "name": "stdout",
     "output_type": "stream",
     "text": [
      "done.\n",
      "Loading RTN Raytheon..."
     ]
    },
    {
     "name": "stderr",
     "output_type": "stream",
     "text": [
      "/tmp/ipykernel_19626/3098801585.py:24: FutureWarning: the 'access_key'' keyword is deprecated, use 'api_key' instead.\n",
      "  d = pdd.DataReader('WIKI/' + symbol, 'quandl', start_date, end_date,\n"
     ]
    },
    {
     "name": "stdout",
     "output_type": "stream",
     "text": [
      "done.\n",
      "Loading CVS CVS..."
     ]
    },
    {
     "name": "stderr",
     "output_type": "stream",
     "text": [
      "/tmp/ipykernel_19626/3098801585.py:24: FutureWarning: the 'access_key'' keyword is deprecated, use 'api_key' instead.\n",
      "  d = pdd.DataReader('WIKI/' + symbol, 'quandl', start_date, end_date,\n"
     ]
    },
    {
     "name": "stdout",
     "output_type": "stream",
     "text": [
      "done.\n",
      "Loading CAT Caterpillar..."
     ]
    },
    {
     "name": "stderr",
     "output_type": "stream",
     "text": [
      "/tmp/ipykernel_19626/3098801585.py:24: FutureWarning: the 'access_key'' keyword is deprecated, use 'api_key' instead.\n",
      "  d = pdd.DataReader('WIKI/' + symbol, 'quandl', start_date, end_date,\n"
     ]
    },
    {
     "name": "stdout",
     "output_type": "stream",
     "text": [
      "done.\n"
     ]
    }
   ],
   "source": [
    "import datetime \n",
    "import json \n",
    "import numpy as np \n",
    "from sklearn import covariance, cluster \n",
    "import pandas as pd\n",
    "import pandas_datareader.data as pdd\n",
    "\n",
    "input_file = 'company_symbol_mapping.json' \n",
    "with open(input_file, 'r') as f: \n",
    "    company_symbols_map = json.loads(f.read()) \n",
    "symbols = list(company_symbols_map.keys())\n",
    "                   \n",
    "QUANDL_API_KEY = 'xxxxxxxxxxxxxxxxxxxx'\n",
    "assert QUANDL_API_KEY != 'xxxxxxxxxxxxxxxxxxxx', 'You must set a valid API KEY.'\n",
    "\n",
    "start_date = datetime.datetime(2003, 7, 3) \n",
    "end_date = datetime.datetime(2007, 5, 4) \n",
    "\n",
    "quotes = []\n",
    "names = []\n",
    "for symbol in symbols:\n",
    "    try:\n",
    "        print('Loading', symbol, company_symbols_map[symbol], end='...')\n",
    "        d = pdd.DataReader('WIKI/' + symbol, 'quandl', start_date, end_date,\n",
    "                           access_key=QUANDL_API_KEY)\n",
    "        print('done.')\n",
    "        quotes.append(d)\n",
    "        names.append(company_symbols_map[symbol])\n",
    "    except:\n",
    "        print('not found.')\n",
    "names = np.array(names)\n"
   ]
  },
  {
   "cell_type": "code",
   "execution_count": 2,
   "metadata": {},
   "outputs": [
    {
     "name": "stdout",
     "output_type": "stream",
     "text": [
      "Cluster 1 ==> Exxon, Chevron, ConocoPhillips, Valero Energy\n",
      "Cluster 2 ==> Yahoo, Amazon, Apple\n",
      "Cluster 3 ==> Ford, Navistar, Caterpillar\n",
      "Cluster 4 ==> Kraft Foods\n",
      "Cluster 5 ==> Coca Cola, Pepsi, Kellogg, Procter Gamble, Colgate-Palmolive, Kimberly-Clark\n",
      "Cluster 6 ==> Comcast, Mc Donalds, Marriott, Wells Fargo, JPMorgan Chase, AIG, American express, Bank of America, Goldman Sachs, Xerox, Wal-Mart, Home Depot, Pfizer, Ryder\n",
      "Cluster 7 ==> Microsoft, IBM, Time Warner, HP, 3M, General Electrics, Cisco, Texas instruments\n",
      "Cluster 8 ==> Northrop Grumman, Boeing, General Dynamics, Raytheon\n",
      "Cluster 9 ==> Walgreen, CVS\n"
     ]
    }
   ],
   "source": [
    "\n",
    "opening_quotes = np.array([quote['Open'] for quote in quotes]).astype(float) \n",
    "closing_quotes = np.array([quote['Close'] for quote in quotes]).astype(float) \n",
    "quotes_diff = closing_quotes - opening_quotes \n",
    "\n",
    "X = quotes_diff.copy().T \n",
    "X /= X.std(axis=0) \n",
    "\n",
    "edge_model = covariance.GraphicalLassoCV(cv=3) \n",
    "\n",
    "with np.errstate(invalid='ignore'): \n",
    "    edge_model.fit(X) \n",
    "\n",
    "_, labels = cluster.affinity_propagation(edge_model.covariance_) \n",
    "num_labels = labels.max() \n",
    "\n",
    "for i in range(num_labels + 1): \n",
    "    print(\"Cluster\", i+1, \"==>\", ', '.join(names[labels == i])) "
   ]
  }
 ],
 "metadata": {
  "kernelspec": {
   "display_name": ".venv",
   "language": "python",
   "name": "python3"
  },
  "language_info": {
   "codemirror_mode": {
    "name": "ipython",
    "version": 3
   },
   "file_extension": ".py",
   "mimetype": "text/x-python",
   "name": "python",
   "nbconvert_exporter": "python",
   "pygments_lexer": "ipython3",
   "version": "3.10.6"
  },
  "vscode": {
   "interpreter": {
    "hash": "48826e31ccc99c6f7ef9ff3cc7e18e1d801c96c784d8e26b62c6d8ced4b0143a"
   }
  }
 },
 "nbformat": 4,
 "nbformat_minor": 2
}
