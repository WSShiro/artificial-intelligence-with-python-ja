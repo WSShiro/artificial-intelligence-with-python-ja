{
 "cells": [
  {
   "cell_type": "code",
   "execution_count": 4,
   "metadata": {},
   "outputs": [
    {
     "name": "stdout",
     "output_type": "stream",
     "text": [
      "Target string: Artificial Intelligence\n",
      "\n",
      "Path to the solution:\n",
      "(None, '')\n",
      "('A', 'A')\n",
      "('r', 'Ar')\n",
      "('t', 'Art')\n",
      "('i', 'Arti')\n",
      "('f', 'Artif')\n",
      "('i', 'Artifi')\n",
      "('c', 'Artific')\n",
      "('i', 'Artifici')\n",
      "('a', 'Artificia')\n",
      "('l', 'Artificial')\n",
      "(' ', 'Artificial ')\n",
      "('I', 'Artificial I')\n",
      "('n', 'Artificial In')\n",
      "('t', 'Artificial Int')\n",
      "('e', 'Artificial Inte')\n",
      "('l', 'Artificial Intel')\n",
      "('l', 'Artificial Intell')\n",
      "('i', 'Artificial Intelli')\n",
      "('g', 'Artificial Intellig')\n",
      "('e', 'Artificial Intellige')\n",
      "('n', 'Artificial Intelligen')\n",
      "('c', 'Artificial Intelligenc')\n",
      "('e', 'Artificial Intelligence')\n"
     ]
    }
   ],
   "source": [
    "import simpleai.search as ss\n",
    "\n",
    "class CustomProblem(ss.SearchProblem): \n",
    "    def set_target(self, target_string): \n",
    "        self.target_string = target_string \n",
    "        \n",
    "    def actions(self, cur_state):\n",
    "        if len(cur_state) < len(self.target_string):\n",
    "            alphabets = 'abcdefghijklmnopqrstuvwxyz'\n",
    "            return list(alphabets + ' ' + alphabets.upper())\n",
    "        else:\n",
    "            return []\n",
    "\n",
    "    def result(self, cur_state, action): \n",
    "        return cur_state + action \n",
    "\n",
    "    def is_goal(self, cur_state): \n",
    "        return cur_state == self.target_string \n",
    "\n",
    "    def heuristic(self, cur_state):\n",
    "        # 現在の文字列を目標の文字列と比較する\n",
    "        dist = sum([1 if cur_state[i] != self.target_string[i] else 0\n",
    "                    for i in range(len(cur_state))])\n",
    "\n",
    "        # 文字列の長さの差を求める\n",
    "        diff = len(self.target_string) - len(cur_state)\n",
    "\n",
    "        return dist + diff\n",
    "\n",
    "problem = CustomProblem() \n",
    "\n",
    "input_string = 'Artificial Intelligence'\n",
    "initial_state = ''\n",
    "#input_string = 'Artificial Intelligence with Python'\n",
    "#initial_state = 'Artificial Inte'\n",
    "\n",
    "problem.set_target(input_string) \n",
    "problem.initial_state = initial_state \n",
    "\n",
    "output = ss.greedy(problem) \n",
    "\n",
    "print('Target string:', input_string) \n",
    "print('\\nPath to the solution:') \n",
    "for item in output.path(): \n",
    "    print(item) "
   ]
  },
  {
   "cell_type": "code",
   "execution_count": null,
   "metadata": {},
   "outputs": [],
   "source": []
  }
 ],
 "metadata": {
  "kernelspec": {
   "display_name": "Python 3",
   "language": "python",
   "name": "python3"
  },
  "language_info": {
   "codemirror_mode": {
    "name": "ipython",
    "version": 3
   },
   "file_extension": ".py",
   "mimetype": "text/x-python",
   "name": "python",
   "nbconvert_exporter": "python",
   "pygments_lexer": "ipython3",
   "version": "3.10.6"
  }
 },
 "nbformat": 4,
 "nbformat_minor": 2
}
