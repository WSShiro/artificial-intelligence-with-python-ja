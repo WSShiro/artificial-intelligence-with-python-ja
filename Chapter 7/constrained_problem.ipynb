{
 "cells": [
  {
   "cell_type": "code",
   "execution_count": 1,
   "metadata": {},
   "outputs": [
    {
     "name": "stdout",
     "output_type": "stream",
     "text": [
      "Normal: {'Anna': 3, 'John': 1, 'Patricia': 2, 'Tom': 4}\n"
     ]
    }
   ],
   "source": [
    "variables = ('John', 'Anna', 'Tom', 'Patricia') \n",
    "\n",
    "domains = { \n",
    "    'John': [1, 2, 3], \n",
    "    'Anna': [1, 3], \n",
    "    'Tom': [2, 4], \n",
    "    'Patricia': [2, 3, 4], \n",
    "} \n",
    "\n",
    "def constraint_unique(variables, values): \n",
    "    # 値が単一かどうか確認する\n",
    "    return len(values) == len(set(values))  \n",
    "\n",
    "def constraint_bigger(variables, values): \n",
    "    return values[0] > values[1] \n",
    "\n",
    "def constraint_odd_even(variables, values): \n",
    "    return values[0] % 2 != values[1] % 2\n",
    "\n",
    "constraints = [ \n",
    "    (('John', 'Anna', 'Tom'), constraint_unique), \n",
    "    (('Tom', 'Anna'), constraint_bigger), \n",
    "    (('John', 'Patricia'), constraint_odd_even), \n",
    "]\n",
    "\n",
    "from simpleai.search import CspProblem, backtrack, \\\n",
    "    min_conflicts, MOST_CONSTRAINED_VARIABLE, \\\n",
    "    HIGHEST_DEGREE_VARIABLE, LEAST_CONSTRAINING_VALUE \n",
    "from pprint import pformat as pf\n",
    "\n",
    "problem = CspProblem(variables, domains, constraints) \n",
    "\n",
    "print('Normal:', pf(backtrack(problem))) "
   ]
  },
  {
   "cell_type": "code",
   "execution_count": 2,
   "metadata": {},
   "outputs": [
    {
     "name": "stdout",
     "output_type": "stream",
     "text": [
      "Most constrained variable: {'Anna': 1, 'John': 3, 'Patricia': 2, 'Tom': 2}\n"
     ]
    }
   ],
   "source": [
    "print('Most constrained variable:', pf(\n",
    "      backtrack(problem, variable_heuristic=MOST_CONSTRAINED_VARIABLE)))"
   ]
  },
  {
   "cell_type": "code",
   "execution_count": 3,
   "metadata": {},
   "outputs": [
    {
     "name": "stdout",
     "output_type": "stream",
     "text": [
      "Highest degree variable: {'Anna': 3, 'John': 1, 'Patricia': 2, 'Tom': 4}\n"
     ]
    }
   ],
   "source": [
    "print('Highest degree variable:', pf(\n",
    "      backtrack(problem, variable_heuristic=HIGHEST_DEGREE_VARIABLE)))"
   ]
  },
  {
   "cell_type": "code",
   "execution_count": 4,
   "metadata": {},
   "outputs": [
    {
     "name": "stdout",
     "output_type": "stream",
     "text": [
      "Least constraining value: {'Anna': 3, 'John': 1, 'Patricia': 2, 'Tom': 4}\n"
     ]
    }
   ],
   "source": [
    "print('Least constraining value:', pf(\n",
    "      backtrack(problem, value_heuristic=LEAST_CONSTRAINING_VALUE)))"
   ]
  },
  {
   "cell_type": "code",
   "execution_count": 5,
   "metadata": {},
   "outputs": [
    {
     "name": "stdout",
     "output_type": "stream",
     "text": [
      "Most constrained variable and least constraining value: {'Anna': 1, 'John': 3, 'Patricia': 2, 'Tom': 2}\n"
     ]
    }
   ],
   "source": [
    "print('Most constrained variable and least constraining value:', \n",
    "      pf(backtrack(problem, variable_heuristic=MOST_CONSTRAINED_VARIABLE, \n",
    "                   value_heuristic=LEAST_CONSTRAINING_VALUE)))"
   ]
  },
  {
   "cell_type": "code",
   "execution_count": 6,
   "metadata": {},
   "outputs": [
    {
     "name": "stdout",
     "output_type": "stream",
     "text": [
      "Highest degree and least constraining value: {'Anna': 3, 'John': 1, 'Patricia': 2, 'Tom': 4}\n"
     ]
    }
   ],
   "source": [
    "print('Highest degree and least constraining value:', \n",
    "       pf(backtrack(problem, variable_heuristic=HIGHEST_DEGREE_VARIABLE, \n",
    "                    value_heuristic=LEAST_CONSTRAINING_VALUE)))"
   ]
  },
  {
   "cell_type": "code",
   "execution_count": 7,
   "metadata": {},
   "outputs": [
    {
     "name": "stdout",
     "output_type": "stream",
     "text": [
      "Minimum conflicts: {'Anna': 3, 'John': 1, 'Patricia': 4, 'Tom': 4}\n"
     ]
    }
   ],
   "source": [
    "print('Minimum conflicts:', pf(min_conflicts(problem)))"
   ]
  }
 ],
 "metadata": {
  "kernelspec": {
   "display_name": "Python 3",
   "language": "python",
   "name": "python3"
  },
  "language_info": {
   "codemirror_mode": {
    "name": "ipython",
    "version": 3
   },
   "file_extension": ".py",
   "mimetype": "text/x-python",
   "name": "python",
   "nbconvert_exporter": "python",
   "pygments_lexer": "ipython3",
   "version": "3.10.6"
  }
 },
 "nbformat": 4,
 "nbformat_minor": 2
}
