{
 "cells": [
  {
   "cell_type": "code",
   "execution_count": 1,
   "metadata": {},
   "outputs": [
    {
     "name": "stdout",
     "output_type": "stream",
     "text": [
      "ommanding\n",
      "ommanding\n",
      "ommanding\n",
      "ommanding\n",
      "ommanding\n"
     ]
    },
    {
     "data": {
      "image/png": "[encoded data removed]",
      "text/plain": [
       "<Figure size 640x480 with 1 Axes>"
      ]
     },
     "metadata": {},
     "output_type": "display_data"
    }
   ],
   "source": [
    "import cv2 \n",
    "import numpy as np\n",
    "import matplotlib.pyplot as plt\n",
    "%matplotlib inline\n",
    "\n",
    "input_file = 'letter.data' \n",
    "\n",
    "W, H = 8, 16 \n",
    "W1, H1 = W + 1, H + 1\n",
    "N_COLS, N_ROWS = 9, 5\n",
    "simg = np.zeros((H1 * N_ROWS, W1 * N_COLS), dtype=np.uint8)\n",
    "\n",
    "col, row = 0, 0\n",
    "with open(input_file, 'r') as f: \n",
    "    for line in f.readlines():\n",
    "        list_vals = line.split('\\t')\n",
    "        c = list_vals[1]\n",
    "        print(c, end='')\n",
    "        data = np.array([255 * int(x) for x in list_vals[6:-1]]) \n",
    "        img = np.reshape(data, (H, W)).astype(np.uint8)\n",
    "        simg[row*H1:row*H1+H,col*W1:col*W1+W] = img\n",
    "        col += 1\n",
    "        if col == N_COLS:\n",
    "            col = 0\n",
    "            row += 1\n",
    "            print('')\n",
    "            if row == N_ROWS:\n",
    "                break\n",
    "                \n",
    "simg = cv2.cvtColor(simg, cv2.COLOR_GRAY2RGB)\n",
    "plt.figure()\n",
    "plt.imshow(simg)\n",
    "plt.show()"
   ]
  },
  {
   "cell_type": "code",
   "execution_count": null,
   "metadata": {},
   "outputs": [],
   "source": []
  }
 ],
 "metadata": {
  "kernelspec": {
   "display_name": "Python 3",
   "language": "python",
   "name": "python3"
  },
  "language_info": {
   "codemirror_mode": {
    "name": "ipython",
    "version": 3
   },
   "file_extension": ".py",
   "mimetype": "text/x-python",
   "name": "python",
   "nbconvert_exporter": "python",
   "pygments_lexer": "ipython3",
   "version": "3.10.6"
  }
 },
 "nbformat": 4,
 "nbformat_minor": 2
}
