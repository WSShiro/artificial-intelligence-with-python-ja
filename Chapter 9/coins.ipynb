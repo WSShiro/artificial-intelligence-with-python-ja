{
 "cells": [
  {
   "cell_type": "code",
   "execution_count": 1,
   "metadata": {},
   "outputs": [
    {
     "name": "stdout",
     "output_type": "stream",
     "text": [
      "d:2, a:0, m:1\n",
      "d:3, a:0, m:1\n",
      "d:4, a:0, m:1\n",
      "d:5, a:0, m:1\n",
      "d:6, a:0, m:1\n",
      "d:7, a:0, m:1\n",
      "d:8, a:0, m:1\n",
      "d:9, a:0, m:1\n",
      "d:10, a:100, m:4\n",
      "1 10 4\n",
      "25 coins left in the pile\n",
      "\n",
      "Move #1: player 1 plays 4 :\n",
      "21 coins left in the pile\n",
      "\n",
      "Move #2: player 2 plays 1 :\n",
      "20 coins left in the pile\n",
      "\n",
      "Move #3: player 1 plays 4 :\n",
      "16 coins left in the pile\n",
      "\n",
      "Move #4: player 2 plays 3 :\n",
      "13 coins left in the pile\n",
      "\n",
      "Move #5: player 1 plays 2 :\n",
      "11 coins left in the pile\n",
      "\n",
      "Move #6: player 2 plays 4 :\n",
      "7 coins left in the pile\n",
      "\n",
      "Move #7: player 1 plays 1 :\n",
      "6 coins left in the pile\n",
      "\n",
      "Move #8: player 2 plays 4 :\n",
      "2 coins left in the pile\n",
      "\n",
      "Move #9: player 1 plays 1 :\n",
      "1 coins left in the pile\n",
      "\n",
      "Move #10: player 2 plays 1 :\n",
      "0 coins left in the pile\n"
     ]
    },
    {
     "data": {
      "text/plain": [
       "[(<__main__.LastCoinStanding at 0x7fab386bc6a0>, '4'),\n",
       " (<__main__.LastCoinStanding at 0x7fab386bc460>, '1'),\n",
       " (<__main__.LastCoinStanding at 0x7fab386bce20>, '4'),\n",
       " (<__main__.LastCoinStanding at 0x7fab386bc580>, '3'),\n",
       " (<__main__.LastCoinStanding at 0x7fab386d4f10>, '2'),\n",
       " (<__main__.LastCoinStanding at 0x7fab3a02e920>, '4'),\n",
       " (<__main__.LastCoinStanding at 0x7fab386d7f40>, '1'),\n",
       " (<__main__.LastCoinStanding at 0x7fab386d4b20>, '4'),\n",
       " (<__main__.LastCoinStanding at 0x7fab386d7d90>, '1'),\n",
       " (<__main__.LastCoinStanding at 0x7fab386cdde0>, '1'),\n",
       " <__main__.LastCoinStanding at 0x7fab386d86d0>]"
      ]
     },
     "execution_count": 1,
     "metadata": {},
     "output_type": "execute_result"
    }
   ],
   "source": [
    "from easyAI import TwoPlayerGame, solve_with_iterative_deepening, Human_Player, AI_Player \n",
    "from easyAI.AI import TranspositionTable \n",
    "\n",
    "class LastCoinStanding(TwoPlayerGame): \n",
    "    \n",
    "    def __init__(self, players=None): \n",
    "        self.players = players \n",
    "        self.current_player = 1 \n",
    "        self.num_coins = 25 \n",
    "        self.max_coins = 4 \n",
    "\n",
    "    def possible_moves(self): \n",
    "        return [str(x) for x in range(1, self.max_coins + 1)] \n",
    "\n",
    "    def make_move(self, move): \n",
    "        self.num_coins -= int(move) \n",
    "\n",
    "    def win(self): \n",
    "        return self.num_coins <= 0 \n",
    "\n",
    "    def is_over(self): \n",
    "        return self.win() \n",
    "\n",
    "    def scoring(self): \n",
    "        return 100 if self.win() else 0 \n",
    "\n",
    "    def show(self): \n",
    "        print(self.num_coins, 'coins left in the pile') \n",
    "\n",
    "    def ttentry(self): \n",
    "        return self.num_coins\n",
    "\n",
    "tt = TranspositionTable() \n",
    "result, depth, move = solve_with_iterative_deepening(LastCoinStanding(),\n",
    "    range(2, 20), win_score=100, tt=tt) \n",
    "print(result, depth, move)  \n",
    "\n",
    "game = LastCoinStanding([AI_Player(tt), Human_Player()]) \n",
    "game.play();"
   ]
  },
  {
   "cell_type": "code",
   "execution_count": null,
   "metadata": {},
   "outputs": [],
   "source": []
  }
 ],
 "metadata": {
  "kernelspec": {
   "display_name": "Python 3",
   "language": "python",
   "name": "python3"
  },
  "language_info": {
   "codemirror_mode": {
    "name": "ipython",
    "version": 3
   },
   "file_extension": ".py",
   "mimetype": "text/x-python",
   "name": "python",
   "nbconvert_exporter": "python",
   "pygments_lexer": "ipython3",
   "version": "3.10.6"
  }
 },
 "nbformat": 4,
 "nbformat_minor": 2
}
